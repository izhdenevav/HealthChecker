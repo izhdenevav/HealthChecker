{
 "cells": [
  {
   "cell_type": "code",
   "execution_count": null,
   "id": "5bfeea47",
   "metadata": {},
   "outputs": [],
   "source": [
    "import cv2\n",
    "\n",
    "from the_old_shit.data_preprocessing import apply_color_space_conversion\n",
    "from the_old_shit.data_preprocessing import apply_time_domain_normalization\n",
    "from the_old_shit.data_preprocessing import add_white_noise\n",
    "\n",
    "from the_old_shit.decompose_module import DCTiDCT"
   ]
  },
  {
   "cell_type": "code",
   "execution_count": null,
   "id": "6260ed4c",
   "metadata": {},
   "outputs": [],
   "source": [
    "cap = cv2.VideoCapture('vid.avi')\n",
    "\n",
    "if not cap.isOpened():\n",
    "    print(\"Error: Could not open camera\")\n",
    "    exit()\n",
    "\n",
    "spatial_temporal_map = []\n",
    "frame_count = 0\n",
    "number_of_frames_per_calculation = 300\n",
    "\n",
    "try:\n",
    "    while cap.isOpened():\n",
    "        ret, frame = cap.read()\n",
    "\n",
    "        if not ret: \n",
    "            break\n",
    "\n",
    "        frame = cv2.cvtColor(frame, cv2.COLOR_BGR2RGB)\n",
    "        \n",
    "        if frame_count <= number_of_frames_per_calculation:\n",
    "            csc = apply_color_space_conversion(frame)\n",
    "            spatial_temporal_map.append(csc)\n",
    "\n",
    "            frame_count += 1\n",
    "        elif frame_count >= number_of_frames_per_calculation - 1:\n",
    "            tdn = apply_time_domain_normalization(spatial_temporal_map)\n",
    "            noised = add_white_noise(tdn)\n",
    "            \n",
    "            frame_count = 0\n",
    "        \n",
    "        \n",
    "        key = cv2.waitKey(1)   \n",
    "        if key == ord('q') or key == 27:\n",
    "            break\n",
    "finally:\n",
    "    cap.release()\n",
    "    cv2.destroyAllWindows()"
   ]
  },
  {
   "cell_type": "code",
   "execution_count": null,
   "id": "aad9a1e9",
   "metadata": {},
   "outputs": [],
   "source": [
    "{'between_eyebrows_landmarks': [172.43155555555555, -6.779911111111119, 17.034459259259258], 'nose_landmarks': [174.46056787330315, -8.384323529411773, 21.309966063348426], 'left_cheek_landmarks': [166.75228211805555, -6.53136718750001, 14.76699131944444], 'right_cheek_landmarks': [158.12988704318937, -6.171374466065487, 14.32245420028477]}\n",
    "{'between_eyebrows_landmarks': [171.90613793103446, -6.8738879310344885, 17.040116379310355], 'nose_landmarks': [173.70047930283224, -8.339032679738565, 21.186631808278875], 'left_cheek_landmarks': [166.26283543204514, -6.360014763352154, 14.350341293964387], 'right_cheek_landmarks': [158.16483478682167, -6.1897863372092985, 14.387061531007754]}\n",
    "{'between_eyebrows_landmarks': [173.58851340996168, -6.875218390804605, 17.099636015325665], 'nose_landmarks': [174.35876470588235, -8.431533936651576, 21.256665158371046], 'left_cheek_landmarks': [166.02763265306123, -6.395233843537412, 14.220011479591843], 'right_cheek_landmarks': [158.1898372093023, -6.241309108527133, 14.314577034883731]}\n",
    "{'between_eyebrows_landmarks': [171.97651293103448, -6.935564655172428, 17.174375000000012], 'nose_landmarks': [173.8074814814815, -8.359424836601306, 21.12815468409587], 'left_cheek_landmarks': [166.08719812925168, -6.365031462585037, 14.226371598639455], 'right_cheek_landmarks': [158.14843507751934, -6.166861434108526, 14.384950581395355]}\n",
    "{'between_eyebrows_landmarks': [171.89142672413794, -6.909314655172423, 16.94603448275862], 'nose_landmarks': [173.91942919389976, -8.390631808278883, 21.129091503267972], 'left_cheek_landmarks': [166.13369897959183, -6.411200680272117, 14.255954931972784], 'right_cheek_landmarks': [158.14423594961238, -6.164981104651176, 14.281832364341085]}\n",
    "{'between_eyebrows_landmarks': [172.1320818965517, -6.835918103448279, 16.90969827586207], 'nose_landmarks': [173.9550544662309, -8.463002178649234, 21.163468409586066], 'left_cheek_landmarks': [166.18393707482994, -6.360360544217684, 14.226820578231301], 'right_cheek_landmarks': [158.25126356589146, -6.137038759689929, 14.227616279069773]}\n",
    "{'between_eyebrows_landmarks': [172.31613362068964, -6.844875000000016, 16.833737068965526], 'nose_landmarks': [174.06491067538124, -8.395864923747268, 21.086692810457524], 'left_cheek_landmarks': [166.2965863095238, -6.413854166666681, 14.234079931972788], 'right_cheek_landmarks': [158.2629869186046, -6.193973352713186, 14.25447141472869]}\n",
    "{'between_eyebrows_landmarks': [172.4276594827586, -6.905400862068973, 16.880211206896558], 'nose_landmarks': [174.00748416289593, -8.459167420814495, 21.053701357466068], 'left_cheek_landmarks': [166.23956845238095, -6.334894982993205, 14.231737670068037], 'right_cheek_landmarks': [158.19664119601327, -6.206874703369721, 14.276838158519226]}\n",
    "{'between_eyebrows_landmarks': [172.78424137931034, -6.651844827586217, 16.991922413793098], 'nose_landmarks': [173.77452714932127, -8.387830316742097, 21.25707013574661], 'left_cheek_landmarks': [166.00360714285713, -6.342121598639466, 14.275709608843531], 'right_cheek_landmarks': [158.08246606549596, -6.170554342667302, 14.252336497389663]}\n",
    "{'between_eyebrows_landmarks': [172.79278448275863, -6.666327586206904, 16.87203879310345], 'nose_landmarks': [173.6854592760181, -8.322296380090492, 21.33841176470588], 'left_cheek_landmarks': [165.79940986394556, -6.257816326530616, 14.223068877551023], 'right_cheek_landmarks': [157.93574133839581, -6.144585192216425, 14.339423825344099]}"
   ]
  }
 ],
 "metadata": {
  "kernelspec": {
   "display_name": "Python 3",
   "language": "python",
   "name": "python3"
  },
  "language_info": {
   "codemirror_mode": {
    "name": "ipython",
    "version": 3
   },
   "file_extension": ".py",
   "mimetype": "text/x-python",
   "name": "python",
   "nbconvert_exporter": "python",
   "pygments_lexer": "ipython3",
   "version": "3.10.0"
  }
 },
 "nbformat": 4,
 "nbformat_minor": 5
}
